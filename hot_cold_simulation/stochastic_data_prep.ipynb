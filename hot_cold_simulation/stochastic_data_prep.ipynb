{
 "cells": [
  {
   "cell_type": "code",
   "execution_count": 47,
   "metadata": {},
   "outputs": [],
   "source": [
    "import geopandas as gpd\n",
    "import numpy as np\n",
    "import pandas as pd\n",
    "from shapely.geometry import Point, Polygon\n",
    "import matplotlib.pyplot as plt"
   ]
  },
  {
   "cell_type": "markdown",
   "metadata": {},
   "source": [
    "## Data Prep"
   ]
  },
  {
   "cell_type": "code",
   "execution_count": 3,
   "metadata": {},
   "outputs": [],
   "source": [
    "divisions = gpd.read_file(\n",
    "    r\"C:/Users/jackr/Documents/Dev/Hot-Cold-Simulation/data/USA_Divisions/usa_divisions.shp\"\n",
    ")\n",
    "counties = gpd.read_file(\n",
    "    r\"C:/Users/jackr/Documents/Dev/Hot-Cold-Simulation/data/USA_Counties/usa_counties.shp\"\n",
    ")\n",
    "states = gpd.read_file(\n",
    "    r\"C:/Users/jackr/Documents/Dev/Hot-Cold-Simulation/data/USA_States/usa_states.shp\"\n",
    ")"
   ]
  },
  {
   "cell_type": "code",
   "execution_count": 4,
   "metadata": {},
   "outputs": [
    {
     "name": "stdout",
     "output_type": "stream",
     "text": [
      "             division                                           geometry\n",
      "0         New England  MULTIPOLYGON (((-71.67381 41.17886, -71.67281 ...\n",
      "1     Middle Atlantic  POLYGON ((-75.01591 38.79016, -75.01611 38.790...\n",
      "2  East North Central  POLYGON ((-91.16348 40.64893, -91.15913 40.651...\n",
      "3  West North Central  POLYGON ((-91.41982 40.37791, -91.42018 40.377...\n",
      "4      South Atlantic  MULTIPOLYGON (((-82.97774 24.65649, -82.96410 ...\n",
      "5  East South Central  POLYGON ((-90.95847 34.12511, -90.95925 34.128...\n",
      "6  West South Central  POLYGON ((-91.16605 33.00314, -91.16620 33.002...\n",
      "7            Mountain  POLYGON ((-103.00234 36.99966, -103.00234 36.9...\n",
      "8             Pacific  MULTIPOLYGON (((-118.66386 33.06685, -118.6543...\n"
     ]
    }
   ],
   "source": [
    "print(divisions)"
   ]
  },
  {
   "cell_type": "code",
   "execution_count": 5,
   "metadata": {},
   "outputs": [
    {
     "name": "stdout",
     "output_type": "stream",
     "text": [
      "Index(['FID', 'REGION', 'DIVISION', 'STATEFP', 'STATENS', 'GEOID', 'STUSPS',\n",
      "       'NAME', 'LSAD', 'MTFCC', 'FUNCSTAT', 'ALAND', 'AWATER', 'INTPTLAT',\n",
      "       'INTPTLON', 'Shape__Are', 'Shape__Len', 'geometry'],\n",
      "      dtype='object')\n"
     ]
    }
   ],
   "source": [
    "print(states.columns)"
   ]
  },
  {
   "cell_type": "code",
   "execution_count": 6,
   "metadata": {},
   "outputs": [
    {
     "name": "stdout",
     "output_type": "stream",
     "text": [
      "count    4.437000e+03\n",
      "mean     1.294499e+05\n",
      "std      1.526784e+05\n",
      "min      0.000000e+00\n",
      "25%      2.305400e+04\n",
      "50%      7.243500e+04\n",
      "75%      1.917800e+05\n",
      "max      1.309653e+06\n",
      "Name: CROP_ACR17, dtype: float64\n"
     ]
    }
   ],
   "source": [
    "print(counties[\"CROP_ACR17\"].describe())"
   ]
  },
  {
   "cell_type": "markdown",
   "metadata": {},
   "source": [
    "Creating Counties DataFrame"
   ]
  },
  {
   "cell_type": "code",
   "execution_count": 7,
   "metadata": {},
   "outputs": [],
   "source": [
    "counties_df = pd.DataFrame()\n",
    "counties_df[\"FIPS\"] = counties[\"FIPS\"]\n",
    "counties_df[\"x1\"] = counties[\"POP_SQMI\"]\n",
    "counties_df[\"x2\"] = counties[\"OWNER_OCC\"] / counties[\"RENTER_OCC\"]\n",
    "counties_df[\"x3\"] = counties[\"CROP_ACR17\"]\n",
    "counties_df[\"geometry\"] = counties[\"geometry\"]"
   ]
  },
  {
   "cell_type": "markdown",
   "metadata": {},
   "source": [
    "Preparing State and Divisions dataframes"
   ]
  },
  {
   "cell_type": "code",
   "execution_count": 8,
   "metadata": {},
   "outputs": [],
   "source": [
    "states_df = pd.DataFrame()\n",
    "states_df[\"FIPS\"] = states[\"STATEFP\"]\n",
    "states_df[\"geometry\"] = states[\"geometry\"]\n",
    "\n",
    "divisions_df = pd.DataFrame()\n",
    "divisions_df[\"FIPS\"] = divisions.index\n",
    "divisions_df[\"geometry\"] = divisions[\"geometry\"]"
   ]
  },
  {
   "cell_type": "code",
   "execution_count": 9,
   "metadata": {},
   "outputs": [],
   "source": [
    "# Assuming 'states' and 'divisions' are already defined and have geometry information\n",
    "\n",
    "# Convert 'states_df' to a GeoDataFrame\n",
    "states_df = pd.DataFrame()\n",
    "states_df[\"FIPS\"] = states[\"STATEFP\"]\n",
    "states_df[\"geometry\"] = states[\"geometry\"]\n",
    "states_gdf = gpd.GeoDataFrame(states_df, geometry=\"geometry\")\n",
    "\n",
    "counties_gdf = gpd.GeoDataFrame(counties_df, geometry=\"geometry\")\n",
    "\n",
    "# Convert 'divisions_df' to a GeoDataFrame\n",
    "divisions_df = pd.DataFrame()\n",
    "divisions_df[\"FIPS\"] = divisions.index\n",
    "divisions_df[\"geometry\"] = divisions[\"geometry\"]\n",
    "divisions_gdf = gpd.GeoDataFrame(divisions_df, geometry=\"geometry\")\n",
    "\n",
    "# Ensure they have the correct coordinate reference system (CRS)\n",
    "# Example: setting to WGS 84 (EPSG:4326)\n",
    "states_gdf.crs = \"EPSG:4326\"\n",
    "divisions_gdf.crs = \"EPSG:4326\"\n",
    "\n",
    "# Now you can perform spatial operations on 'states_gdf' and 'divisions_gdf'"
   ]
  },
  {
   "cell_type": "code",
   "execution_count": 10,
   "metadata": {},
   "outputs": [
    {
     "name": "stderr",
     "output_type": "stream",
     "text": [
      "c:\\Users\\jackr\\Documents\\Dev\\Hot-Cold-Simulation\\.venv\\Lib\\site-packages\\IPython\\core\\interactiveshell.py:3517: FutureWarning: The `op` parameter is deprecated and will be removed in a future release. Please use the `predicate` parameter instead.\n",
      "  if await self.run_code(code, result, async_=asy):\n"
     ]
    },
    {
     "name": "stdout",
     "output_type": "stream",
     "text": [
      "Index(['FIPS_left', 'x1', 'x2', 'x3', 'geometry', 'index_right', 'FIPS_right'], dtype='object')\n"
     ]
    },
    {
     "name": "stderr",
     "output_type": "stream",
     "text": [
      "c:\\Users\\jackr\\Documents\\Dev\\Hot-Cold-Simulation\\.venv\\Lib\\site-packages\\IPython\\core\\interactiveshell.py:3517: FutureWarning: The `op` parameter is deprecated and will be removed in a future release. Please use the `predicate` parameter instead.\n",
      "  if await self.run_code(code, result, async_=asy):\n"
     ]
    }
   ],
   "source": [
    "# Spatial join Counties with States\n",
    "states_counties = gpd.sjoin(counties_gdf, states_gdf, how=\"inner\", op=\"within\")\n",
    "print(states_counties.columns)\n",
    "# Aggregate/Average Data for States\n",
    "states_agg = (\n",
    "    states_counties.groupby(\"FIPS_right\")\n",
    "    .agg(\n",
    "        x1=(\"x1\", \"mean\"),  # Average population density\n",
    "        x2=(\n",
    "            \"x2\",\n",
    "            \"mean\",\n",
    "        ),  # Average owner/renter ratio\n",
    "        x3=(\"x3\", \"sum\"),  # Sum of crop acreage\n",
    "    )\n",
    "    .reset_index()\n",
    ")\n",
    "\n",
    "# Spatial join Counties with Divisions\n",
    "divisions_counties = gpd.sjoin(counties_gdf, divisions_gdf, how=\"inner\", op=\"within\")\n",
    "\n",
    "# Aggregate/Average Data for Divisions\n",
    "divisions_agg = (\n",
    "    divisions_counties.groupby(\"FIPS_right\")\n",
    "    .agg(\n",
    "        x1=(\"x1\", \"mean\"),\n",
    "        x2=(\"x2\", \"mean\"),\n",
    "        x3=(\"x3\", \"sum\"),\n",
    "    )\n",
    "    .reset_index()\n",
    ")"
   ]
  },
  {
   "cell_type": "code",
   "execution_count": 16,
   "metadata": {},
   "outputs": [],
   "source": [
    "states_agg[\"geometry\"] = states[\"geometry\"]\n",
    "states_agg[\"names\"] = states[\"NAME\"]\n",
    "states_agg = states_agg.rename(columns={\"FIPS_right\": \"FIPS\"})\n",
    "divisions_agg[\"geometry\"] = divisions[\"geometry\"]\n",
    "divisions_agg[\"names\"] = divisions[\"division\"]\n",
    "divisions_agg = divisions_agg.rename(columns={\"FIPS_right\": \"FIPS\"})"
   ]
  },
  {
   "cell_type": "markdown",
   "metadata": {},
   "source": [
    "Renaming"
   ]
  },
  {
   "cell_type": "code",
   "execution_count": 20,
   "metadata": {},
   "outputs": [],
   "source": [
    "counties = counties_df\n",
    "states = states_agg\n",
    "divisions = divisions_agg"
   ]
  },
  {
   "cell_type": "markdown",
   "metadata": {},
   "source": [
    "## Stochastic Model"
   ]
  },
  {
   "cell_type": "code",
   "execution_count": 33,
   "metadata": {},
   "outputs": [],
   "source": [
    "def logistic_function_with_noise_normalized(x1, x2, x3, a, b, y, sigma, steps=100):\n",
    "    \"\"\"\n",
    "    Generate stochastic paths using a logistic function with added noise, and normalize\n",
    "    the results to get probabilities that sum to 1.\n",
    "\n",
    "    Parameters:\n",
    "    - x1, x2, x3: Variables for population density, owner/renter ratio, and crop acreage.\n",
    "    - a, b, y: Parameters weighting the importance of x1, x2, and x3.\n",
    "    - sigma: Standard deviation of the noise term.\n",
    "    - steps: Number of steps in the stochastic path.\n",
    "\n",
    "    Returns:\n",
    "    - A numpy array containing normalized probabilities for each step.\n",
    "    \"\"\"\n",
    "    path = np.zeros(steps)\n",
    "    for i in range(steps):\n",
    "        e = np.random.normal(0, sigma**2)  # Noise term\n",
    "        logistic_val = 1 / (1 + np.exp(-(a * x1 + b * x2 + y * x3)))\n",
    "        path[i] = logistic_val + e\n",
    "\n",
    "    # Normalize the path to ensure the sum of probabilities equals 1\n",
    "    normalized_path = np.maximum(path, 0)  # Ensure all probabilities are non-negative\n",
    "    sum_path = np.sum(normalized_path)\n",
    "    if sum_path > 0:\n",
    "        normalized_path = normalized_path / sum_path\n",
    "    else:\n",
    "        # In case sum_path is 0 or negative due to noise, distribute probabilities evenly\n",
    "        normalized_path = np.ones(steps) / steps\n",
    "\n",
    "    return normalized_path"
   ]
  },
  {
   "cell_type": "markdown",
   "metadata": {},
   "source": [
    "Parameter Setting"
   ]
  },
  {
   "cell_type": "code",
   "execution_count": 43,
   "metadata": {},
   "outputs": [],
   "source": [
    "a, b, y, sigma = 0.1, 0.2, 0.3, 0.05"
   ]
  },
  {
   "cell_type": "code",
   "execution_count": 44,
   "metadata": {},
   "outputs": [],
   "source": [
    "# Ensure 'stochastic_paths_df' is defined outside the loop correctly\n",
    "data_for_new_df = []  # This will collect our dictionaries\n",
    "\n",
    "for index, row in counties.iterrows():\n",
    "    # Generate the stochastic path for each row\n",
    "    path = logistic_function_with_noise_normalized(\n",
    "        row[\"x1\"], row[\"x2\"], row[\"x3\"], a, b, y, sigma\n",
    "    )\n",
    "\n",
    "    # Collect each row's data as a dictionary\n",
    "    data_for_new_df.append({\"FIPS\": row[\"FIPS\"], \"stochastic_paths\": path.tolist()})\n",
    "\n",
    "# Once the loop is complete, create the DataFrame\n",
    "stochastic_paths_df = pd.DataFrame(data_for_new_df)"
   ]
  },
  {
   "cell_type": "code",
   "execution_count": 46,
   "metadata": {},
   "outputs": [
    {
     "data": {
      "image/png": "[encoded data removed]",
      "text/plain": [
       "<Figure size 640x480 with 1 Axes>"
      ]
     },
     "metadata": {},
     "output_type": "display_data"
    }
   ],
   "source": [
    "import numpy as np\n",
    "\n",
    "# Step 1: Transpose the list of stochastic paths\n",
    "# This creates a list of 100 elements, where each element is a list of probabilities for that step across all paths.\n",
    "all_paths = np.array(stochastic_paths_df[\"stochastic_paths\"].tolist())\n",
    "transposed_paths = (\n",
    "    all_paths.T\n",
    ")  # Transpose so each row represents a step across all paths\n",
    "\n",
    "# Step 2: Plot the PDF for each step\n",
    "steps_to_plot = [\n",
    "    0,\n",
    "    49,\n",
    "    99,\n",
    "]  # For example, plot the PDF for the first, middle, and last step\n",
    "for step in steps_to_plot:\n",
    "    probabilities = transposed_paths[step]\n",
    "\n",
    "    # Compute the histogram\n",
    "    density, bins = np.histogram(probabilities, bins=30, density=True)\n",
    "    # Compute bin centers\n",
    "    bin_centers = (bins[:-1] + bins[1:]) / 2\n",
    "\n",
    "    # Plot the PDF\n",
    "    plt.plot(bin_centers, density, label=f\"Step {step + 1}\")\n",
    "\n",
    "plt.xlabel(\"Probability\")\n",
    "plt.xticks(rotation=45)  # Rotate labels to prevent overlap\n",
    "plt.ylabel(\"Density\")\n",
    "plt.title(\"Probability Density Function at Selected Steps\")\n",
    "plt.legend()\n",
    "plt.show()"
   ]
  }
 ],
 "metadata": {
  "kernelspec": {
   "display_name": ".venv",
   "language": "python",
   "name": "python3"
  },
  "language_info": {
   "codemirror_mode": {
    "name": "ipython",
    "version": 3
   },
   "file_extension": ".py",
   "mimetype": "text/x-python",
   "name": "python",
   "nbconvert_exporter": "python",
   "pygments_lexer": "ipython3",
   "version": "3.11.5"
  }
 },
 "nbformat": 4,
 "nbformat_minor": 2
}
