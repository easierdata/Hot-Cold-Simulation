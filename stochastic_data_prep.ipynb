{
 "cells": [
  {
   "cell_type": "code",
   "execution_count": null,
   "metadata": {},
   "outputs": [
    {
     "ename": "",
     "evalue": "",
     "output_type": "error",
     "traceback": [
      "\u001b[1;31mRunning cells with '.venv' requires the ipykernel package.\n",
      "\u001b[1;31mRun the following command to install 'ipykernel' into the Python environment. \n",
      "\u001b[1;31mCommand: '/Users/jackrickey/Dev/Hot-Cold-Simulation/.venv/bin/python -m pip install ipykernel -U --force-reinstall'"
     ]
    }
   ],
   "source": [
    "import geopandas as gpd\n",
    "import numpy as np\n",
    "import pandas as pd\n",
    "from shapely.geometry import Point, Polygon\n",
    "import matplotlib.pyplot as plt\n",
    "import os\n",
    "from pathlib import Path"
   ]
  },
  {
   "cell_type": "markdown",
   "metadata": {},
   "source": [
    "## Data Prep"
   ]
  },
  {
   "cell_type": "code",
   "execution_count": null,
   "metadata": {},
   "outputs": [
    {
     "ename": "",
     "evalue": "",
     "output_type": "error",
     "traceback": [
      "\u001b[1;31mRunning cells with '.venv' requires the ipykernel package.\n",
      "\u001b[1;31mRun the following command to install 'ipykernel' into the Python environment. \n",
      "\u001b[1;31mCommand: '/Users/jackrickey/Dev/Hot-Cold-Simulation/.venv/bin/python -m pip install ipykernel -U --force-reinstall'"
     ]
    }
   ],
   "source": [
    "# Define the base directory where your data is located\n",
    "current_dir = Path.cwd()\n",
    "print(current_dir)\n",
    "data = (Path(current_dir) / \"data\").resolve()\n",
    "# Paths for the shapefiles\n",
    "divisions_path = os.path.join(data, \"USA_Divisions\", \"usa_divisions.shp\")\n",
    "counties_path = os.path.join(data, \"USA_Counties\", \"usa_counties.shp\")\n",
    "states_path = os.path.join(data, \"USA_States\", \"usa_states.shp\")\n",
    "\n",
    "# Reading the shapefiles using geopandas\n",
    "divisions = gpd.read_file(divisions_path)\n",
    "counties = gpd.read_file(counties_path)\n",
    "states = gpd.read_file(states_path)"
   ]
  },
  {
   "cell_type": "code",
   "execution_count": null,
   "metadata": {},
   "outputs": [
    {
     "ename": "",
     "evalue": "",
     "output_type": "error",
     "traceback": [
      "\u001b[1;31mRunning cells with '.venv' requires the ipykernel package.\n",
      "\u001b[1;31mRun the following command to install 'ipykernel' into the Python environment. \n",
      "\u001b[1;31mCommand: '/Users/jackrickey/Dev/Hot-Cold-Simulation/.venv/bin/python -m pip install ipykernel -U --force-reinstall'"
     ]
    }
   ],
   "source": [
    "print(divisions)"
   ]
  },
  {
   "cell_type": "code",
   "execution_count": null,
   "metadata": {},
   "outputs": [
    {
     "ename": "",
     "evalue": "",
     "output_type": "error",
     "traceback": [
      "\u001b[1;31mRunning cells with '.venv' requires the ipykernel package.\n",
      "\u001b[1;31mRun the following command to install 'ipykernel' into the Python environment. \n",
      "\u001b[1;31mCommand: '/Users/jackrickey/Dev/Hot-Cold-Simulation/.venv/bin/python -m pip install ipykernel -U --force-reinstall'"
     ]
    }
   ],
   "source": [
    "print(states.columns)"
   ]
  },
  {
   "cell_type": "code",
   "execution_count": null,
   "metadata": {},
   "outputs": [
    {
     "ename": "",
     "evalue": "",
     "output_type": "error",
     "traceback": [
      "\u001b[1;31mRunning cells with '.venv' requires the ipykernel package.\n",
      "\u001b[1;31mRun the following command to install 'ipykernel' into the Python environment. \n",
      "\u001b[1;31mCommand: '/Users/jackrickey/Dev/Hot-Cold-Simulation/.venv/bin/python -m pip install ipykernel -U --force-reinstall'"
     ]
    }
   ],
   "source": [
    "print(counties[\"CROP_ACR17\"].describe())"
   ]
  },
  {
   "cell_type": "markdown",
   "metadata": {},
   "source": [
    "Creating Counties DataFrame"
   ]
  },
  {
   "cell_type": "code",
   "execution_count": null,
   "metadata": {},
   "outputs": [
    {
     "ename": "",
     "evalue": "",
     "output_type": "error",
     "traceback": [
      "\u001b[1;31mRunning cells with '.venv' requires the ipykernel package.\n",
      "\u001b[1;31mRun the following command to install 'ipykernel' into the Python environment. \n",
      "\u001b[1;31mCommand: '/Users/jackrickey/Dev/Hot-Cold-Simulation/.venv/bin/python -m pip install ipykernel -U --force-reinstall'"
     ]
    }
   ],
   "source": [
    "counties_df = pd.DataFrame()\n",
    "counties_df[\"FIPS\"] = counties[\"FIPS\"]\n",
    "counties_df[\"x1\"] = counties[\"POP_SQMI\"]\n",
    "counties_df[\"x2\"] = counties[\"OWNER_OCC\"] / counties[\"RENTER_OCC\"]\n",
    "counties_df[\"x3\"] = counties[\"CROP_ACR17\"]\n",
    "counties_df[\"geometry\"] = counties[\"geometry\"]"
   ]
  },
  {
   "cell_type": "markdown",
   "metadata": {},
   "source": [
    "Preparing State and Divisions dataframes"
   ]
  },
  {
   "cell_type": "code",
   "execution_count": null,
   "metadata": {},
   "outputs": [
    {
     "ename": "",
     "evalue": "",
     "output_type": "error",
     "traceback": [
      "\u001b[1;31mRunning cells with '.venv' requires the ipykernel package.\n",
      "\u001b[1;31mRun the following command to install 'ipykernel' into the Python environment. \n",
      "\u001b[1;31mCommand: '/Users/jackrickey/Dev/Hot-Cold-Simulation/.venv/bin/python -m pip install ipykernel -U --force-reinstall'"
     ]
    }
   ],
   "source": [
    "states_df = pd.DataFrame()\n",
    "states_df[\"FIPS\"] = states[\"STATEFP\"]\n",
    "states_df[\"geometry\"] = states[\"geometry\"]\n",
    "\n",
    "divisions_df = pd.DataFrame()\n",
    "divisions_df[\"FIPS\"] = divisions.index\n",
    "divisions_df[\"geometry\"] = divisions[\"geometry\"]"
   ]
  },
  {
   "cell_type": "code",
   "execution_count": null,
   "metadata": {},
   "outputs": [
    {
     "ename": "",
     "evalue": "",
     "output_type": "error",
     "traceback": [
      "\u001b[1;31mRunning cells with '.venv' requires the ipykernel package.\n",
      "\u001b[1;31mRun the following command to install 'ipykernel' into the Python environment. \n",
      "\u001b[1;31mCommand: '/Users/jackrickey/Dev/Hot-Cold-Simulation/.venv/bin/python -m pip install ipykernel -U --force-reinstall'"
     ]
    }
   ],
   "source": [
    "# Assuming 'states' and 'divisions' are already defined and have geometry information\n",
    "\n",
    "# Convert 'states_df' to a GeoDataFrame\n",
    "states_df = pd.DataFrame()\n",
    "states_df[\"FIPS\"] = states[\"STATEFP\"]\n",
    "states_df[\"geometry\"] = states[\"geometry\"]\n",
    "states_gdf = gpd.GeoDataFrame(states_df, geometry=\"geometry\")\n",
    "\n",
    "counties_gdf = gpd.GeoDataFrame(counties_df, geometry=\"geometry\")\n",
    "\n",
    "# Convert 'divisions_df' to a GeoDataFrame\n",
    "divisions_df = pd.DataFrame()\n",
    "divisions_df[\"FIPS\"] = divisions.index\n",
    "divisions_df[\"geometry\"] = divisions[\"geometry\"]\n",
    "divisions_gdf = gpd.GeoDataFrame(divisions_df, geometry=\"geometry\")\n",
    "\n",
    "# Ensure they have the correct coordinate reference system (CRS)\n",
    "# Example: setting to WGS 84 (EPSG:4326)\n",
    "states_gdf.crs = \"EPSG:4326\"\n",
    "divisions_gdf.crs = \"EPSG:4326\"\n",
    "\n",
    "# Now you can perform spatial operations on 'states_gdf' and 'divisions_gdf'"
   ]
  },
  {
   "cell_type": "code",
   "execution_count": null,
   "metadata": {},
   "outputs": [
    {
     "ename": "",
     "evalue": "",
     "output_type": "error",
     "traceback": [
      "\u001b[1;31mRunning cells with '.venv' requires the ipykernel package.\n",
      "\u001b[1;31mRun the following command to install 'ipykernel' into the Python environment. \n",
      "\u001b[1;31mCommand: '/Users/jackrickey/Dev/Hot-Cold-Simulation/.venv/bin/python -m pip install ipykernel -U --force-reinstall'"
     ]
    }
   ],
   "source": [
    "# Spatial join Counties with States\n",
    "states_counties = gpd.sjoin(counties_gdf, states_gdf, how=\"inner\", op=\"within\")\n",
    "print(states_counties.columns)\n",
    "# Aggregate/Average Data for States\n",
    "states_agg = (\n",
    "    states_counties.groupby(\"FIPS_right\")\n",
    "    .agg(\n",
    "        x1=(\"x1\", \"mean\"),  # Average population density\n",
    "        x2=(\n",
    "            \"x2\",\n",
    "            \"mean\",\n",
    "        ),  # Average owner/renter ratio\n",
    "        x3=(\"x3\", \"sum\"),  # Sum of crop acreage\n",
    "    )\n",
    "    .reset_index()\n",
    ")\n",
    "\n",
    "# Spatial join Counties with Divisions\n",
    "divisions_counties = gpd.sjoin(counties_gdf, divisions_gdf, how=\"inner\", op=\"within\")\n",
    "\n",
    "# Aggregate/Average Data for Divisions\n",
    "divisions_agg = (\n",
    "    divisions_counties.groupby(\"FIPS_right\")\n",
    "    .agg(\n",
    "        x1=(\"x1\", \"mean\"),\n",
    "        x2=(\"x2\", \"mean\"),\n",
    "        x3=(\"x3\", \"sum\"),\n",
    "    )\n",
    "    .reset_index()\n",
    ")"
   ]
  },
  {
   "cell_type": "code",
   "execution_count": null,
   "metadata": {},
   "outputs": [
    {
     "ename": "",
     "evalue": "",
     "output_type": "error",
     "traceback": [
      "\u001b[1;31mRunning cells with '.venv' requires the ipykernel package.\n",
      "\u001b[1;31mRun the following command to install 'ipykernel' into the Python environment. \n",
      "\u001b[1;31mCommand: '/Users/jackrickey/Dev/Hot-Cold-Simulation/.venv/bin/python -m pip install ipykernel -U --force-reinstall'"
     ]
    }
   ],
   "source": [
    "states_agg[\"geometry\"] = states[\"geometry\"]\n",
    "states_agg[\"names\"] = states[\"NAME\"]\n",
    "states_agg = states_agg.rename(columns={\"FIPS_right\": \"FIPS\"})\n",
    "divisions_agg[\"geometry\"] = divisions[\"geometry\"]\n",
    "divisions_agg[\"names\"] = divisions[\"division\"]\n",
    "divisions_agg = divisions_agg.rename(columns={\"FIPS_right\": \"FIPS\"})"
   ]
  },
  {
   "cell_type": "markdown",
   "metadata": {},
   "source": [
    "Renaming"
   ]
  },
  {
   "cell_type": "code",
   "execution_count": null,
   "metadata": {},
   "outputs": [
    {
     "ename": "",
     "evalue": "",
     "output_type": "error",
     "traceback": [
      "\u001b[1;31mRunning cells with '.venv' requires the ipykernel package.\n",
      "\u001b[1;31mRun the following command to install 'ipykernel' into the Python environment. \n",
      "\u001b[1;31mCommand: '/Users/jackrickey/Dev/Hot-Cold-Simulation/.venv/bin/python -m pip install ipykernel -U --force-reinstall'"
     ]
    }
   ],
   "source": [
    "counties = counties_df\n",
    "states = states_agg\n",
    "divisions = divisions_agg"
   ]
  },
  {
   "cell_type": "code",
   "execution_count": null,
   "metadata": {},
   "outputs": [
    {
     "ename": "",
     "evalue": "",
     "output_type": "error",
     "traceback": [
      "\u001b[1;31mRunning cells with '.venv' requires the ipykernel package.\n",
      "\u001b[1;31mRun the following command to install 'ipykernel' into the Python environment. \n",
      "\u001b[1;31mCommand: '/Users/jackrickey/Dev/Hot-Cold-Simulation/.venv/bin/python -m pip install ipykernel -U --force-reinstall'"
     ]
    }
   ],
   "source": [
    "print(counties)\n",
    "print(states)\n",
    "print(divisions)"
   ]
  },
  {
   "cell_type": "markdown",
   "metadata": {},
   "source": [
    "## Stochastic Model"
   ]
  },
  {
   "cell_type": "code",
   "execution_count": null,
   "metadata": {},
   "outputs": [
    {
     "ename": "",
     "evalue": "",
     "output_type": "error",
     "traceback": [
      "\u001b[1;31mRunning cells with '.venv' requires the ipykernel package.\n",
      "\u001b[1;31mRun the following command to install 'ipykernel' into the Python environment. \n",
      "\u001b[1;31mCommand: '/Users/jackrickey/Dev/Hot-Cold-Simulation/.venv/bin/python -m pip install ipykernel -U --force-reinstall'"
     ]
    }
   ],
   "source": [
    "def logistic_function_with_noise_normalized(x1, x2, x3, a, b, y, sigma, steps=100):\n",
    "    \"\"\"\n",
    "    Generate stochastic paths using a logistic function with added noise, and normalize\n",
    "    the results to get probabilities that sum to 1.\n",
    "\n",
    "    Parameters:\n",
    "    - x1, x2, x3: Variables for population density, owner/renter ratio, and crop acreage.\n",
    "    - a, b, y: Parameters weighting the importance of x1, x2, and x3.\n",
    "    - sigma: Standard deviation of the noise term.\n",
    "    - steps: Number of steps in the stochastic path.\n",
    "\n",
    "    Returns:\n",
    "    - A numpy array containing normalized probabilities for each step.\n",
    "    \"\"\"\n",
    "    path = np.zeros(steps)\n",
    "    for i in range(steps):\n",
    "        e = np.random.normal(0, sigma**2)  # Noise term\n",
    "        logistic_val = 1 / (1 + np.exp(-(a * x1 + b * x2 + y * x3)))\n",
    "        path[i] = logistic_val + e\n",
    "\n",
    "    # Normalize the path to ensure the sum of probabilities equals 1\n",
    "    normalized_path = np.maximum(path, 0)  # Ensure all probabilities are non-negative\n",
    "    sum_path = np.sum(normalized_path)\n",
    "    if sum_path > 0:\n",
    "        normalized_path = normalized_path / sum_path\n",
    "    else:\n",
    "        # In case sum_path is 0 or negative due to noise, distribute probabilities evenly\n",
    "        normalized_path = np.ones(steps) / steps\n",
    "\n",
    "    return normalized_path"
   ]
  },
  {
   "cell_type": "code",
   "execution_count": null,
   "metadata": {},
   "outputs": [
    {
     "ename": "",
     "evalue": "",
     "output_type": "error",
     "traceback": [
      "\u001b[1;31mRunning cells with '.venv' requires the ipykernel package.\n",
      "\u001b[1;31mRun the following command to install 'ipykernel' into the Python environment. \n",
      "\u001b[1;31mCommand: '/Users/jackrickey/Dev/Hot-Cold-Simulation/.venv/bin/python -m pip install ipykernel -U --force-reinstall'"
     ]
    }
   ],
   "source": [
    "def generate_stochastic_paths_df(gdf, a, b, y, sigma):\n",
    "    data_for_new_df = []\n",
    "    for index, row in gdf.iterrows():\n",
    "        path = logistic_function_with_noise_normalized(\n",
    "            row[\"x1\"], row[\"x2\"], row[\"x3\"], a, b, y, sigma\n",
    "        )\n",
    "        data_for_new_df.append({\"FIPS\": row[\"FIPS\"], \"stochastic_paths\": path.tolist()})\n",
    "    return pd.DataFrame(data_for_new_df)"
   ]
  },
  {
   "cell_type": "code",
   "execution_count": null,
   "metadata": {},
   "outputs": [
    {
     "ename": "",
     "evalue": "",
     "output_type": "error",
     "traceback": [
      "\u001b[1;31mRunning cells with '.venv' requires the ipykernel package.\n",
      "\u001b[1;31mRun the following command to install 'ipykernel' into the Python environment. \n",
      "\u001b[1;31mCommand: '/Users/jackrickey/Dev/Hot-Cold-Simulation/.venv/bin/python -m pip install ipykernel -U --force-reinstall'"
     ]
    }
   ],
   "source": [
    "def plot_pdf_for_steps(stochastic_paths_df, name, steps_to_plot=[0, 49, 99]):\n",
    "    all_paths = np.array(stochastic_paths_df[\"stochastic_paths\"].tolist())\n",
    "    transposed_paths = (\n",
    "        all_paths.T\n",
    "    )  # Transpose so each row represents a step across all paths\n",
    "\n",
    "    # Step 2: Plot the PDF for each step\n",
    "    steps_to_plot = [\n",
    "        0,\n",
    "        49,\n",
    "        99,\n",
    "    ]  # For example, plot the PDF for the first, middle, and last step\n",
    "    for step in steps_to_plot:\n",
    "        probabilities = transposed_paths[step]\n",
    "\n",
    "        # Compute the histogram\n",
    "        density, bins = np.histogram(probabilities, bins=30, density=True)\n",
    "        # Compute bin centers\n",
    "        bin_centers = (bins[:-1] + bins[1:]) / 2\n",
    "\n",
    "        # Plot the PDF\n",
    "        plt.plot(bin_centers, density, label=f\"Step {step + 1}\")\n",
    "\n",
    "    plt.xlabel(\"Probability\")\n",
    "    plt.xticks(rotation=45)  # Rotate labels to prevent overlap\n",
    "    plt.ylabel(\"Density\")\n",
    "    plt.title(f\"Probability Density Function for {name} at Selected Steps\")\n",
    "    plt.legend()\n",
    "    plt.show()"
   ]
  },
  {
   "cell_type": "code",
   "execution_count": null,
   "metadata": {},
   "outputs": [
    {
     "ename": "",
     "evalue": "",
     "output_type": "error",
     "traceback": [
      "\u001b[1;31mRunning cells with '.venv' requires the ipykernel package.\n",
      "\u001b[1;31mRun the following command to install 'ipykernel' into the Python environment. \n",
      "\u001b[1;31mCommand: '/Users/jackrickey/Dev/Hot-Cold-Simulation/.venv/bin/python -m pip install ipykernel -U --force-reinstall'"
     ]
    }
   ],
   "source": [
    "# Example parameters\n",
    "a, b, y, sigma = 0.1, 0.2, 0.3, 0.05\n",
    "\n",
    "# Generate stochastic paths DataFrame for counties\n",
    "counties_stochastic_df = generate_stochastic_paths_df(counties, a, b, y, sigma)\n",
    "# Plot PDF for counties\n",
    "plot_pdf_for_steps(counties_stochastic_df, name=\"Counties\")\n",
    "\n",
    "# Repeat similarly for states and divisions\n",
    "states_stochastic_df = generate_stochastic_paths_df(states, a, b, y, sigma)\n",
    "plot_pdf_for_steps(states_stochastic_df, name=\"States\")\n",
    "\n",
    "divisions_stochastic_df = generate_stochastic_paths_df(divisions, a, b, y, sigma)\n",
    "plot_pdf_for_steps(divisions_stochastic_df, name=\"Divisions\")"
   ]
  },
  {
   "cell_type": "code",
   "execution_count": null,
   "metadata": {},
   "outputs": [
    {
     "ename": "",
     "evalue": "",
     "output_type": "error",
     "traceback": [
      "\u001b[1;31mRunning cells with '.venv' requires the ipykernel package.\n",
      "\u001b[1;31mRun the following command to install 'ipykernel' into the Python environment. \n",
      "\u001b[1;31mCommand: '/Users/jackrickey/Dev/Hot-Cold-Simulation/.venv/bin/python -m pip install ipykernel -U --force-reinstall'"
     ]
    }
   ],
   "source": [
    "# Define the directory to save the shapefiles\n",
    "save_dir = Path.cwd() / \"stochastic_paths\"\n",
    "save_dir.mkdir(exist_ok=True)  # Create the directory if it doesn't exist\n",
    "\n",
    "\n",
    "# Function to save GeoDataFrames to the specified directory\n",
    "def save_gdf(gdf, name, directory=save_dir):\n",
    "    \"\"\"\n",
    "    Save a GeoDataFrame as a shapefile in the specified directory.\n",
    "\n",
    "    Parameters:\n",
    "    - gdf: The GeoDataFrame to save.\n",
    "    - name: The name for the saved file (without extension).\n",
    "    - directory: The directory where the shapefile will be saved.\n",
    "    \"\"\"\n",
    "    file_path = directory / f\"{name}.csv\"\n",
    "    gdf.to_csv(file_path, index=False)\n",
    "\n",
    "\n",
    "# Save the GeoDataFrames\n",
    "save_gdf(counties_stochastic_df, \"counties_stochastic\")\n",
    "save_gdf(states_stochastic_df, \"states_stochastic\")\n",
    "save_gdf(divisions_stochastic_df, \"divisions_stochastic\")"
   ]
  }
 ],
 "metadata": {
  "kernelspec": {
   "display_name": ".venv",
   "language": "python",
   "name": "python3"
  },
  "language_info": {
   "codemirror_mode": {
    "name": "ipython",
    "version": 3
   },
   "file_extension": ".py",
   "mimetype": "text/x-python",
   "name": "python",
   "nbconvert_exporter": "python",
   "pygments_lexer": "ipython3",
   "version": "3.11.5"
  }
 },
 "nbformat": 4,
 "nbformat_minor": 2
}
